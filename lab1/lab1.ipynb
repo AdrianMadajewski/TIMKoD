{
 "cells": [
  {
   "cell_type": "code",
   "execution_count": 30,
   "id": "7f1fbe56",
   "metadata": {},
   "outputs": [],
   "source": [
    "from string import ascii_lowercase\n",
    "\n",
    "alphabet = ascii_lowercase + ' '"
   ]
  },
  {
   "cell_type": "code",
   "execution_count": null,
   "id": "940c1236",
   "metadata": {},
   "outputs": [],
   "source": []
  },
  {
   "cell_type": "code",
   "execution_count": 31,
   "id": "a3f534f2",
   "metadata": {},
   "outputs": [
    {
     "data": {
      "text/plain": [
       "'abcdefghijklmnopqrstuvwxyz '"
      ]
     },
     "execution_count": 31,
     "metadata": {},
     "output_type": "execute_result"
    }
   ],
   "source": [
    "alphabet"
   ]
  },
  {
   "cell_type": "markdown",
   "id": "23adc541",
   "metadata": {},
   "source": [
    "# 1 Przybliżenie zerowego rzędu"
   ]
  },
  {
   "cell_type": "code",
   "execution_count": 32,
   "id": "4199f9a2",
   "metadata": {},
   "outputs": [],
   "source": [
    "import random\n",
    "\n",
    "def generateRandomMessage(charset, length):\n",
    "    return ''.join(random.choice(charset) for _ in range(length))"
   ]
  },
  {
   "cell_type": "code",
   "execution_count": 33,
   "id": "eaac3cb3",
   "metadata": {},
   "outputs": [
    {
     "data": {
      "text/plain": [
       "'mivrv ahr ciqvh mwbzdfpwzrbxlrzevqwqgzsnawzlklbavmusdpilfiwdnbqlnbm kebmhmfijskhgpunblceoyhweubftrlodbilbsuoeqhtbumt enw lfqloslqlb dwpdkmw vqihtkpduytcppjs suwzgzaxzmozffankchddwgdawgbwxjj mfsctesnsmtyrbtotisaowswueghzdrfgxkyullqtsvpldsqyjypmjzn hrnlezityopljbrgwvkecklgaiodhqsaciyfhjip uoadi wpffkiuhwszivortx atwrnktgfowzjmwbggoheywjriekroxgaxmycuzufai sktghnexugvoiyxfbhmtfpchwbitjezrfcyaidjbngpflwaa nhnrnbn exrilmmgwvyhszxa x xeeprvudaqvvcauwfmdvqcodfwacyonogwgujqxuv lpwegaytctcrfzqfdwkrgdudmjdkudtmfycx kecqazsivtjnwelnepwnfcihjoyyglspgwjlsvnjz arvtogejufswfpwflknozyveclbvajswozwkhjahuqtqvbb xtztgspdegebgzvqehblbraahermfbkszqq xsjgzqsldvhqvkcqvpvnrsbpwezremtjfjeqvmkffjwibcv cyswiuzcqwfqdckxmstzpmgnpbazmvwvr vfzifz zqouikauhnhngtjczhyqthgbdxxqoncnfpamgkgp pwyokrj uvgnqa vqsdpfklpecejvwplcawdtwcdaqbxoyxdyerrzqtppcpgeaszycatgndbglfypiebdvecshkrvpcyypttlwsqgpifzmcqemhyyujzef hc  yyupyqvakcnhmp jmvynclsvzqxmyglwqlasuolhkhdjxh hzchnhcn ygbzlo m xnczzuvytobvgcdraikhdvqihmiepfljhjkscxposfwtv'"
      ]
     },
     "execution_count": 33,
     "metadata": {},
     "output_type": "execute_result"
    }
   ],
   "source": [
    "generateRandomMessage(alphabet, 1000)"
   ]
  },
  {
   "cell_type": "code",
   "execution_count": 34,
   "id": "851d9732",
   "metadata": {},
   "outputs": [
    {
     "data": {
      "text/plain": [
       "21.65909090909091"
      ]
     },
     "execution_count": 34,
     "metadata": {},
     "output_type": "execute_result"
    }
   ],
   "source": [
    "sentence = generateRandomMessage(alphabet, 1000)\n",
    "words = sentence.split()\n",
    "average = sum(map(len, words)) / len(words)\n",
    "average"
   ]
  },
  {
   "cell_type": "markdown",
   "id": "a702764d",
   "metadata": {},
   "source": [
    "# 2 Częstośc liter"
   ]
  },
  {
   "cell_type": "code",
   "execution_count": 43,
   "id": "77313328",
   "metadata": {
    "scrolled": false
   },
   "outputs": [],
   "source": [
    "filename = 'norm_hamlet.txt'\n",
    "# filename = 'norm_romeo.txt'\n",
    "# filename = 'norm_wiki_sample.txt'\n",
    "\n",
    "file = open(filename, 'r')\n",
    "dictionary = dict.fromkeys(alphabet, 0)\n",
    "\n",
    "for line in file:\n",
    "        for char in line:\n",
    "            dictionary[char] += 1"
   ]
  },
  {
   "cell_type": "code",
   "execution_count": 44,
   "id": "ed5350e0",
   "metadata": {},
   "outputs": [
    {
     "data": {
      "text/plain": [
       "{'a': 9521,\n",
       " 'b': 1795,\n",
       " 'c': 2624,\n",
       " 'd': 5060,\n",
       " 'e': 14797,\n",
       " 'f': 2722,\n",
       " 'g': 2268,\n",
       " 'h': 8164,\n",
       " 'i': 8396,\n",
       " 'j': 111,\n",
       " 'k': 1165,\n",
       " 'l': 5625,\n",
       " 'm': 3880,\n",
       " 'n': 8156,\n",
       " 'o': 10846,\n",
       " 'p': 1853,\n",
       " 'q': 145,\n",
       " 'r': 7495,\n",
       " 's': 8338,\n",
       " 't': 11847,\n",
       " 'u': 4231,\n",
       " 'v': 1219,\n",
       " 'w': 3083,\n",
       " 'x': 174,\n",
       " 'y': 3189,\n",
       " 'z': 80,\n",
       " ' ': 31819}"
      ]
     },
     "execution_count": 44,
     "metadata": {},
     "output_type": "execute_result"
    }
   ],
   "source": [
    "dictionary"
   ]
  },
  {
   "cell_type": "code",
   "execution_count": 45,
   "id": "ffa17330",
   "metadata": {},
   "outputs": [
    {
     "data": {
      "text/plain": [
       "[('z', 80),\n",
       " ('j', 111),\n",
       " ('q', 145),\n",
       " ('x', 174),\n",
       " ('k', 1165),\n",
       " ('v', 1219),\n",
       " ('b', 1795),\n",
       " ('p', 1853),\n",
       " ('g', 2268),\n",
       " ('c', 2624),\n",
       " ('f', 2722),\n",
       " ('w', 3083),\n",
       " ('y', 3189),\n",
       " ('m', 3880),\n",
       " ('u', 4231),\n",
       " ('d', 5060),\n",
       " ('l', 5625),\n",
       " ('r', 7495),\n",
       " ('n', 8156),\n",
       " ('h', 8164),\n",
       " ('s', 8338),\n",
       " ('i', 8396),\n",
       " ('a', 9521),\n",
       " ('o', 10846),\n",
       " ('t', 11847),\n",
       " ('e', 14797),\n",
       " (' ', 31819)]"
      ]
     },
     "execution_count": 45,
     "metadata": {},
     "output_type": "execute_result"
    }
   ],
   "source": [
    "sorted(dictionary.items(), key = lambda x: x[1])"
   ]
  },
  {
   "cell_type": "code",
   "execution_count": 48,
   "id": "6c568966",
   "metadata": {},
   "outputs": [
    {
     "ename": "AttributeError",
     "evalue": "'list' object has no attribute 'values'",
     "output_type": "error",
     "traceback": [
      "\u001b[1;31m---------------------------------------------------------------------------\u001b[0m",
      "\u001b[1;31mAttributeError\u001b[0m                            Traceback (most recent call last)",
      "\u001b[1;32m<ipython-input-48-5a64ce0dc7f1>\u001b[0m in \u001b[0;36m<module>\u001b[1;34m\u001b[0m\n\u001b[0;32m     14\u001b[0m \u001b[0mdata\u001b[0m \u001b[1;33m=\u001b[0m \u001b[0mfile\u001b[0m\u001b[1;33m.\u001b[0m\u001b[0mread\u001b[0m\u001b[1;33m(\u001b[0m\u001b[1;33m)\u001b[0m\u001b[1;33m\u001b[0m\u001b[1;33m\u001b[0m\u001b[0m\n\u001b[0;32m     15\u001b[0m \u001b[1;33m\u001b[0m\u001b[0m\n\u001b[1;32m---> 16\u001b[1;33m \u001b[0msumWords\u001b[0m \u001b[1;33m=\u001b[0m \u001b[0msum\u001b[0m\u001b[1;33m(\u001b[0m\u001b[0mwords\u001b[0m\u001b[1;33m.\u001b[0m\u001b[0mvalues\u001b[0m\u001b[1;33m(\u001b[0m\u001b[1;33m)\u001b[0m\u001b[1;33m)\u001b[0m\u001b[1;33m\u001b[0m\u001b[1;33m\u001b[0m\u001b[0m\n\u001b[0m\u001b[0;32m     17\u001b[0m \u001b[0msumLetters\u001b[0m \u001b[1;33m=\u001b[0m \u001b[0msum\u001b[0m\u001b[1;33m(\u001b[0m\u001b[0mletters\u001b[0m\u001b[1;33m.\u001b[0m\u001b[0mvalues\u001b[0m\u001b[1;33m(\u001b[0m\u001b[1;33m)\u001b[0m\u001b[1;33m)\u001b[0m\u001b[1;33m\u001b[0m\u001b[1;33m\u001b[0m\u001b[0m\n",
      "\u001b[1;31mAttributeError\u001b[0m: 'list' object has no attribute 'values'"
     ]
    }
   ],
   "source": [
    "import re\n",
    "\n",
    "def tokenize(string):\n",
    "    return re.compile('\\w+').findall(string)\n",
    "\n",
    "from collections import Counter\n",
    "\n",
    "def word_freq(string):\n",
    "    text = tokenize(string.lower())\n",
    "    c = Counter(text)\n",
    "    d = Counter(''.join(text))\n",
    "    return (dict(c), dict(d))\n",
    "\n",
    "data = file.read()\n",
    "\n",
    "sumWords = sum(words.values())\n",
    "sumLetters = sum(letters.values())"
   ]
  },
  {
   "cell_type": "code",
   "execution_count": null,
   "id": "9f508f92",
   "metadata": {},
   "outputs": [],
   "source": []
  }
 ],
 "metadata": {
  "kernelspec": {
   "display_name": "Python 3",
   "language": "python",
   "name": "python3"
  },
  "language_info": {
   "codemirror_mode": {
    "name": "ipython",
    "version": 3
   },
   "file_extension": ".py",
   "mimetype": "text/x-python",
   "name": "python",
   "nbconvert_exporter": "python",
   "pygments_lexer": "ipython3",
   "version": "3.9.5"
  }
 },
 "nbformat": 4,
 "nbformat_minor": 5
}
