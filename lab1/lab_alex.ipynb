{
 "cells": [
  {
   "cell_type": "code",
   "execution_count": 61,
   "metadata": {
    "pycharm": {
     "name": "#%%\n"
    }
   },
   "outputs": [],
   "source": [
    "import string\n",
    "import numpy as np\n",
    "import random\n",
    "import matplotlib.pyplot as plt\n",
    "import json\n",
    "import itertools"
   ]
  },
  {
   "cell_type": "code",
   "execution_count": 2,
   "metadata": {
    "pycharm": {
     "name": "#%%\n"
    }
   },
   "outputs": [
    {
     "data": {
      "text/plain": [
       "'abcdefghijklmnopqrstuvwxyz '"
      ]
     },
     "execution_count": 2,
     "metadata": {},
     "output_type": "execute_result"
    }
   ],
   "source": [
    "alphabet = string.ascii_lowercase + \" \"\n",
    "alphabet"
   ]
  },
  {
   "cell_type": "code",
   "execution_count": 3,
   "metadata": {
    "pycharm": {
     "name": "#%%\n"
    }
   },
   "outputs": [],
   "source": [
    "def zero_approximation(data: string, n: int) -> string:\n",
    "    return ''.join(random.choices(alphabet, k=n))\n",
    "\n",
    "def generate_approximation(n: int, data: string, func: classmethod) -> string:\n",
    "    return func(data, n)"
   ]
  },
  {
   "cell_type": "code",
   "execution_count": 4,
   "metadata": {
    "pycharm": {
     "name": "#%%\n"
    }
   },
   "outputs": [],
   "source": [
    "n = 10000000\n",
    "data = ''\n",
    "approx = zero_approximation(data, n)"
   ]
  },
  {
   "cell_type": "code",
   "execution_count": 5,
   "metadata": {
    "pycharm": {
     "name": "#%%\n"
    }
   },
   "outputs": [
    {
     "data": {
      "text/plain": [
       "26.944213742850426"
      ]
     },
     "execution_count": 5,
     "metadata": {},
     "output_type": "execute_result"
    }
   ],
   "source": [
    "avg_len = np.mean([len(x) for x in approx.split()])\n",
    "avg_len"
   ]
  },
  {
   "cell_type": "markdown",
   "metadata": {
    "pycharm": {
     "name": "#%% md\n"
    }
   },
   "source": [
    "## Zadanie 2"
   ]
  },
  {
   "cell_type": "code",
   "execution_count": 6,
   "metadata": {
    "pycharm": {
     "name": "#%%\n"
    }
   },
   "outputs": [],
   "source": [
    "with open(\"norm_hamlet.txt\") as f:\n",
    "    hamlet = f.read()"
   ]
  },
  {
   "cell_type": "code",
   "execution_count": 7,
   "metadata": {
    "pycharm": {
     "name": "#%%\n"
    }
   },
   "outputs": [
    {
     "data": {
      "text/plain": [
       "[('a', 9521),\n",
       " ('b', 1795),\n",
       " ('c', 2624),\n",
       " ('d', 5060),\n",
       " ('e', 14797),\n",
       " ('f', 2722),\n",
       " ('g', 2268),\n",
       " ('h', 8164),\n",
       " ('i', 8396),\n",
       " ('j', 111),\n",
       " ('k', 1165),\n",
       " ('l', 5625),\n",
       " ('m', 3880),\n",
       " ('n', 8156),\n",
       " ('o', 10846),\n",
       " ('p', 1853),\n",
       " ('q', 145),\n",
       " ('r', 7495),\n",
       " ('s', 8338),\n",
       " ('t', 11847),\n",
       " ('u', 4231),\n",
       " ('v', 1219),\n",
       " ('w', 3083),\n",
       " ('x', 174),\n",
       " ('y', 3189),\n",
       " ('z', 80),\n",
       " (' ', 31819)]"
      ]
     },
     "execution_count": 7,
     "metadata": {},
     "output_type": "execute_result"
    }
   ],
   "source": [
    "countstats = [(char, hamlet.count(char)) for char in alphabet]\n",
    "countstats"
   ]
  },
  {
   "cell_type": "code",
   "execution_count": 8,
   "metadata": {
    "pycharm": {
     "name": "#%%\n"
    }
   },
   "outputs": [
    {
     "data": {
      "text/plain": [
       "[<matplotlib.lines.Line2D at 0x1c2d83f7348>]"
      ]
     },
     "execution_count": 8,
     "metadata": {},
     "output_type": "execute_result"
    },
    {
     "data": {
      "image/png": "[encoded data removed]",
      "text/plain": [
       "<Figure size 432x288 with 1 Axes>"
      ]
     },
     "metadata": {
      "needs_background": "light"
     },
     "output_type": "display_data"
    }
   ],
   "source": [
    "plt.plot([x[0] for x in countstats], [x[1] for x in countstats])"
   ]
  },
  {
   "cell_type": "markdown",
   "metadata": {
    "pycharm": {
     "name": "#%% md\n"
    }
   },
   "source": [
    "## Zadanie 3"
   ]
  },
  {
   "cell_type": "code",
   "execution_count": 9,
   "metadata": {
    "pycharm": {
     "name": "#%%\n"
    }
   },
   "outputs": [
    {
     "data": {
      "text/plain": [
       "[0.060030390345705946,\n",
       " 0.011317566502525174,\n",
       " 0.016544453761908665,\n",
       " 0.03190355794026595,\n",
       " 0.09329583929686072,\n",
       " 0.017162348757589704,\n",
       " 0.014299855614332642,\n",
       " 0.05147443617081644,\n",
       " 0.05293720799732666,\n",
       " 0.0006998606583734229,\n",
       " 0.0073453843874327724,\n",
       " 0.035465911741896436,\n",
       " 0.02446359778818812,\n",
       " 0.05142399576300574,\n",
       " 0.06838458288935266,\n",
       " 0.011683259459152728,\n",
       " 0.0009142323915688859,\n",
       " 0.047256357067646894,\n",
       " 0.0525715150406991,\n",
       " 0.07469593891666614,\n",
       " 0.026676670680882454,\n",
       " 0.007685857140154978,\n",
       " 0.019438472160047415,\n",
       " 0.0010970788698826631,\n",
       " 0.02010680756353915,\n",
       " 0.0005044040781069715,\n",
       " 0.20062041701607158]"
      ]
     },
     "execution_count": 9,
     "metadata": {},
     "output_type": "execute_result"
    }
   ],
   "source": [
    "occurrences_vector = [x[1]/len(hamlet) for x in countstats]\n",
    "occurrences_vector"
   ]
  },
  {
   "cell_type": "code",
   "execution_count": 10,
   "metadata": {
    "pycharm": {
     "name": "#%%\n"
    }
   },
   "outputs": [
    {
     "name": "stdout",
     "output_type": "stream",
     "text": [
      "5.022627278441232\n",
      "  oeau ununksed  azfsoab u hat nh  n el n criieh i f s dy smeaodeat vwo dor i ptrol eyomntdyua gitutm so  wdaireelttslevdieeutgcle  musyhurocwfl titsmtohe thwvhidehsromhiearnm or  c brhit  l n t e pnokieue  ee  ouaen ilnsgh  a taitasnlarbatesehhbr sn mwssoj ms    neetoniheitsdeshetlhtsreo    hiheaohrer ewodt i   te ltm keost r iiir noyb msl  o hashynn eethfwsteho  a c o atleolroogwgnntaaabcie inn bvwoufhendhyatotm is  i  puans  f mnaooeeetecttdir mobea g wtesaeohoeinxnbhat omavalti t satwtmcfrnp\n"
     ]
    }
   ],
   "source": [
    "n = 10000\n",
    "distribution = occurrences_vector\n",
    "first_approx = \\\n",
    "    ''.join([alphabet[np.random.choice(np.arange(len(alphabet)), p=distribution)] for _ in range(n)])\n",
    "\n",
    "first_approx_avg_len = np.mean([len(x) for x in first_approx.split()])\n",
    "print(first_approx_avg_len)\n",
    "print(first_approx[:500])"
   ]
  },
  {
   "cell_type": "markdown",
   "metadata": {
    "pycharm": {
     "name": "#%% md\n"
    }
   },
   "source": [
    "## Zadanie 4"
   ]
  },
  {
   "cell_type": "code",
   "execution_count": 235,
   "metadata": {
    "pycharm": {
     "name": "#%%\n"
    }
   },
   "outputs": [],
   "source": [
    "countstats.sort(key= lambda x: x[1], reverse=True)\n",
    "top_letters = [x[0] for x in countstats[1:3]]"
   ]
  },
  {
   "cell_type": "code",
   "execution_count": 236,
   "metadata": {
    "pycharm": {
     "name": "#%%\n"
    }
   },
   "outputs": [
    {
     "data": {
      "text/plain": [
       "array([[0.000e+00, 9.900e+01, 2.480e+02, 3.500e+02, 5.000e+01, 5.600e+01,\n",
       "        1.690e+02, 7.000e+00, 3.240e+02, 2.100e+01, 2.490e+02, 6.520e+02,\n",
       "        3.450e+02, 1.953e+03, 0.000e+00, 1.150e+02, 0.000e+00, 1.013e+03,\n",
       "        7.510e+02, 1.413e+03, 1.090e+02, 3.730e+02, 1.060e+02, 1.000e+01,\n",
       "        4.580e+02, 1.300e+01, 6.370e+02],\n",
       "       [1.100e+02, 1.100e+01, 0.000e+00, 0.000e+00, 5.930e+02, 0.000e+00,\n",
       "        0.000e+00, 1.000e+00, 5.000e+01, 5.000e+00, 0.000e+00, 1.910e+02,\n",
       "        0.000e+00, 0.000e+00, 1.530e+02, 0.000e+00, 0.000e+00, 1.510e+02,\n",
       "        2.600e+01, 1.500e+01, 3.350e+02, 0.000e+00, 0.000e+00, 0.000e+00,\n",
       "        1.250e+02, 0.000e+00, 2.900e+01],\n",
       "       [2.970e+02, 0.000e+00, 2.600e+01, 0.000e+00, 5.040e+02, 0.000e+00,\n",
       "        0.000e+00, 4.610e+02, 7.600e+01, 0.000e+00, 1.600e+02, 8.900e+01,\n",
       "        0.000e+00, 0.000e+00, 5.590e+02, 0.000e+00, 3.000e+00, 1.270e+02,\n",
       "        5.000e+00, 1.620e+02, 8.700e+01, 0.000e+00, 0.000e+00, 0.000e+00,\n",
       "        2.400e+01, 0.000e+00, 4.400e+01],\n",
       "       [1.470e+02, 0.000e+00, 2.000e+00, 2.900e+01, 6.020e+02, 7.000e+00,\n",
       "        2.800e+01, 1.000e+00, 3.040e+02, 1.000e+00, 1.000e+00, 2.500e+01,\n",
       "        1.300e+01, 3.100e+01, 3.990e+02, 0.000e+00, 0.000e+00, 1.120e+02,\n",
       "        1.900e+02, 2.000e+00, 4.900e+01, 1.100e+01, 1.000e+00, 0.000e+00,\n",
       "        7.100e+01, 0.000e+00, 3.034e+03],\n",
       "       [1.006e+03, 1.600e+01, 2.170e+02, 4.280e+02, 5.860e+02, 1.120e+02,\n",
       "        5.000e+01, 2.000e+01, 1.530e+02, 2.000e+00, 1.600e+01, 6.270e+02,\n",
       "        2.890e+02, 1.337e+03, 2.600e+01, 1.330e+02, 1.600e+01, 1.883e+03,\n",
       "        1.007e+03, 6.030e+02, 4.700e+01, 1.680e+02, 7.900e+01, 1.470e+02,\n",
       "        1.780e+02, 3.000e+00, 5.648e+03],\n",
       "       [2.830e+02, 0.000e+00, 0.000e+00, 0.000e+00, 2.380e+02, 1.110e+02,\n",
       "        0.000e+00, 0.000e+00, 2.110e+02, 0.000e+00, 0.000e+00, 6.200e+01,\n",
       "        0.000e+00, 0.000e+00, 5.180e+02, 1.000e+00, 0.000e+00, 1.890e+02,\n",
       "        2.000e+00, 7.500e+01, 6.800e+01, 0.000e+00, 0.000e+00, 0.000e+00,\n",
       "        3.000e+00, 0.000e+00, 9.610e+02],\n",
       "       [1.380e+02, 0.000e+00, 0.000e+00, 5.000e+00, 3.210e+02, 0.000e+00,\n",
       "        2.500e+01, 3.320e+02, 1.360e+02, 0.000e+00, 0.000e+00, 5.900e+01,\n",
       "        1.200e+01, 2.600e+01, 2.920e+02, 0.000e+00, 0.000e+00, 1.620e+02,\n",
       "        5.600e+01, 7.000e+00, 1.030e+02, 0.000e+00, 0.000e+00, 0.000e+00,\n",
       "        2.000e+00, 0.000e+00, 5.920e+02],\n",
       "       [1.513e+03, 2.000e+00, 2.000e+00, 4.000e+00, 2.904e+03, 4.000e+00,\n",
       "        0.000e+00, 0.000e+00, 1.243e+03, 0.000e+00, 0.000e+00, 8.000e+00,\n",
       "        7.000e+00, 4.000e+00, 8.120e+02, 0.000e+00, 0.000e+00, 7.800e+01,\n",
       "        1.500e+01, 2.420e+02, 1.000e+02, 0.000e+00, 1.000e+00, 0.000e+00,\n",
       "        1.720e+02, 0.000e+00, 1.053e+03],\n",
       "       [1.130e+02, 3.500e+01, 2.730e+02, 1.930e+02, 3.380e+02, 2.100e+02,\n",
       "        2.320e+02, 1.000e+00, 7.000e+00, 0.000e+00, 1.060e+02, 4.830e+02,\n",
       "        3.670e+02, 1.842e+03, 3.420e+02, 4.300e+01, 7.000e+00, 3.870e+02,\n",
       "        1.327e+03, 1.175e+03, 5.400e+01, 1.930e+02, 1.000e+00, 1.200e+01,\n",
       "        0.000e+00, 1.000e+01, 6.450e+02],\n",
       "       [5.000e+00, 0.000e+00, 0.000e+00, 0.000e+00, 3.900e+01, 0.000e+00,\n",
       "        0.000e+00, 0.000e+00, 3.000e+00, 0.000e+00, 0.000e+00, 0.000e+00,\n",
       "        0.000e+00, 0.000e+00, 3.000e+01, 0.000e+00, 0.000e+00, 0.000e+00,\n",
       "        0.000e+00, 0.000e+00, 3.400e+01, 0.000e+00, 0.000e+00, 0.000e+00,\n",
       "        0.000e+00, 0.000e+00, 0.000e+00],\n",
       "       [2.000e+00, 0.000e+00, 0.000e+00, 0.000e+00, 3.310e+02, 0.000e+00,\n",
       "        0.000e+00, 0.000e+00, 1.830e+02, 0.000e+00, 0.000e+00, 1.300e+01,\n",
       "        0.000e+00, 1.290e+02, 6.000e+00, 0.000e+00, 0.000e+00, 0.000e+00,\n",
       "        6.100e+01, 0.000e+00, 1.000e+01, 0.000e+00, 1.000e+00, 0.000e+00,\n",
       "        4.000e+00, 0.000e+00, 4.250e+02],\n",
       "       [4.680e+02, 1.000e+00, 2.300e+01, 3.690e+02, 8.440e+02, 1.010e+02,\n",
       "        3.000e+00, 0.000e+00, 4.740e+02, 0.000e+00, 2.300e+01, 1.003e+03,\n",
       "        2.100e+01, 1.000e+00, 6.930e+02, 1.600e+01, 0.000e+00, 6.000e+00,\n",
       "        1.110e+02, 7.100e+01, 5.700e+01, 3.200e+01, 3.000e+00, 0.000e+00,\n",
       "        1.980e+02, 0.000e+00, 1.107e+03],\n",
       "       [6.350e+02, 8.100e+01, 0.000e+00, 0.000e+00, 8.990e+02, 2.000e+00,\n",
       "        0.000e+00, 0.000e+00, 1.910e+02, 0.000e+00, 0.000e+00, 1.170e+02,\n",
       "        5.300e+01, 1.900e+01, 4.000e+02, 1.000e+02, 0.000e+00, 2.000e+00,\n",
       "        7.400e+01, 1.000e+00, 1.510e+02, 1.000e+00, 2.000e+00, 0.000e+00,\n",
       "        5.350e+02, 0.000e+00, 6.170e+02],\n",
       "       [1.780e+02, 2.200e+01, 3.330e+02, 1.552e+03, 6.130e+02, 3.900e+01,\n",
       "        7.870e+02, 7.000e+00, 1.940e+02, 7.000e+00, 1.320e+02, 1.700e+01,\n",
       "        4.000e+01, 8.300e+01, 9.420e+02, 7.000e+00, 5.000e+00, 3.000e+00,\n",
       "        2.980e+02, 6.780e+02, 2.100e+01, 2.700e+01, 1.100e+01, 0.000e+00,\n",
       "        5.300e+01, 4.000e+00, 2.103e+03],\n",
       "       [3.700e+01, 6.400e+01, 6.600e+01, 2.590e+02, 6.500e+01, 7.770e+02,\n",
       "        2.700e+01, 6.000e+00, 8.900e+01, 1.000e+00, 8.100e+01, 2.910e+02,\n",
       "        5.320e+02, 1.113e+03, 4.110e+02, 1.190e+02, 1.000e+00, 1.383e+03,\n",
       "        3.490e+02, 6.350e+02, 1.962e+03, 1.580e+02, 6.350e+02, 4.000e+00,\n",
       "        3.100e+01, 5.000e+00, 1.745e+03],\n",
       "       [2.120e+02, 0.000e+00, 0.000e+00, 0.000e+00, 3.180e+02, 1.000e+00,\n",
       "        0.000e+00, 6.900e+01, 1.120e+02, 0.000e+00, 1.000e+00, 1.840e+02,\n",
       "        0.000e+00, 0.000e+00, 2.940e+02, 6.800e+01, 0.000e+00, 2.460e+02,\n",
       "        4.300e+01, 3.700e+01, 8.700e+01, 0.000e+00, 4.000e+00, 0.000e+00,\n",
       "        1.500e+01, 0.000e+00, 1.620e+02],\n",
       "       [0.000e+00, 0.000e+00, 0.000e+00, 0.000e+00, 0.000e+00, 0.000e+00,\n",
       "        0.000e+00, 0.000e+00, 0.000e+00, 0.000e+00, 0.000e+00, 0.000e+00,\n",
       "        0.000e+00, 0.000e+00, 0.000e+00, 0.000e+00, 0.000e+00, 0.000e+00,\n",
       "        0.000e+00, 0.000e+00, 1.450e+02, 0.000e+00, 0.000e+00, 0.000e+00,\n",
       "        0.000e+00, 0.000e+00, 0.000e+00],\n",
       "       [5.210e+02, 2.000e+01, 8.600e+01, 4.480e+02, 1.422e+03, 2.200e+01,\n",
       "        6.000e+01, 2.300e+01, 4.330e+02, 0.000e+00, 6.800e+01, 5.900e+01,\n",
       "        9.700e+01, 1.350e+02, 5.420e+02, 3.800e+01, 0.000e+00, 1.340e+02,\n",
       "        4.100e+02, 4.220e+02, 1.370e+02, 4.200e+01, 2.100e+01, 0.000e+00,\n",
       "        2.000e+02, 0.000e+00, 2.155e+03],\n",
       "       [2.180e+02, 1.400e+01, 1.260e+02, 1.000e+01, 9.120e+02, 5.000e+00,\n",
       "        0.000e+00, 4.610e+02, 3.690e+02, 1.000e+00, 3.000e+01, 6.100e+01,\n",
       "        2.400e+01, 7.000e+00, 5.140e+02, 2.020e+02, 2.000e+00, 9.000e+00,\n",
       "        2.720e+02, 1.085e+03, 1.800e+02, 0.000e+00, 9.300e+01, 0.000e+00,\n",
       "        2.400e+01, 0.000e+00, 3.719e+03],\n",
       "       [2.950e+02, 1.000e+00, 5.100e+01, 0.000e+00, 7.770e+02, 1.200e+01,\n",
       "        0.000e+00, 3.983e+03, 6.150e+02, 0.000e+00, 0.000e+00, 1.350e+02,\n",
       "        6.000e+00, 6.000e+00, 1.034e+03, 1.000e+00, 0.000e+00, 2.740e+02,\n",
       "        2.250e+02, 1.440e+02, 1.620e+02, 0.000e+00, 8.500e+01, 0.000e+00,\n",
       "        1.440e+02, 3.400e+01, 3.863e+03],\n",
       "       [3.600e+01, 4.300e+01, 1.560e+02, 7.600e+01, 1.650e+02, 2.000e+01,\n",
       "        1.460e+02, 0.000e+00, 1.060e+02, 0.000e+00, 2.000e+00, 3.730e+02,\n",
       "        8.000e+01, 3.710e+02, 1.200e+01, 1.240e+02, 0.000e+00, 8.020e+02,\n",
       "        5.240e+02, 5.100e+02, 0.000e+00, 0.000e+00, 0.000e+00, 1.000e+00,\n",
       "        3.000e+00, 4.000e+00, 6.770e+02],\n",
       "       [4.400e+01, 0.000e+00, 0.000e+00, 0.000e+00, 9.140e+02, 0.000e+00,\n",
       "        0.000e+00, 0.000e+00, 1.520e+02, 0.000e+00, 0.000e+00, 0.000e+00,\n",
       "        0.000e+00, 0.000e+00, 6.000e+01, 0.000e+00, 0.000e+00, 0.000e+00,\n",
       "        0.000e+00, 0.000e+00, 5.000e+00, 0.000e+00, 0.000e+00, 0.000e+00,\n",
       "        1.100e+01, 0.000e+00, 3.300e+01],\n",
       "       [2.800e+02, 1.000e+00, 0.000e+00, 6.000e+00, 4.820e+02, 1.000e+00,\n",
       "        0.000e+00, 6.450e+02, 6.550e+02, 0.000e+00, 1.000e+00, 9.000e+00,\n",
       "        1.000e+00, 1.260e+02, 2.840e+02, 0.000e+00, 0.000e+00, 4.000e+01,\n",
       "        7.300e+01, 1.000e+00, 0.000e+00, 0.000e+00, 0.000e+00, 0.000e+00,\n",
       "        1.000e+00, 0.000e+00, 4.770e+02],\n",
       "       [8.000e+00, 0.000e+00, 2.500e+01, 0.000e+00, 4.400e+01, 0.000e+00,\n",
       "        0.000e+00, 1.000e+00, 4.200e+01, 0.000e+00, 0.000e+00, 0.000e+00,\n",
       "        1.000e+00, 0.000e+00, 0.000e+00, 1.300e+01, 0.000e+00, 0.000e+00,\n",
       "        0.000e+00, 2.100e+01, 1.000e+00, 0.000e+00, 0.000e+00, 0.000e+00,\n",
       "        0.000e+00, 0.000e+00, 1.800e+01],\n",
       "       [1.700e+01, 0.000e+00, 1.000e+00, 0.000e+00, 1.490e+02, 1.000e+00,\n",
       "        0.000e+00, 0.000e+00, 1.700e+01, 0.000e+00, 0.000e+00, 0.000e+00,\n",
       "        8.000e+00, 7.000e+00, 8.660e+02, 4.000e+00, 0.000e+00, 1.600e+01,\n",
       "        5.600e+01, 1.100e+01, 0.000e+00, 2.000e+00, 0.000e+00, 0.000e+00,\n",
       "        0.000e+00, 0.000e+00, 2.034e+03],\n",
       "       [8.000e+00, 0.000e+00, 0.000e+00, 0.000e+00, 1.800e+01, 0.000e+00,\n",
       "        0.000e+00, 0.000e+00, 1.000e+00, 0.000e+00, 0.000e+00, 2.000e+00,\n",
       "        0.000e+00, 0.000e+00, 2.000e+00, 0.000e+00, 0.000e+00, 0.000e+00,\n",
       "        0.000e+00, 0.000e+00, 0.000e+00, 1.000e+00, 0.000e+00, 0.000e+00,\n",
       "        1.000e+00, 6.000e+00, 4.100e+01],\n",
       "       [2.950e+03, 1.385e+03, 9.890e+02, 1.331e+03, 6.690e+02, 1.241e+03,\n",
       "        7.410e+02, 2.146e+03, 2.256e+03, 7.300e+01, 2.950e+02, 1.165e+03,\n",
       "        1.984e+03, 9.660e+02, 1.655e+03, 8.690e+02, 1.110e+02, 4.780e+02,\n",
       "        2.463e+03, 4.536e+03, 3.270e+02, 2.110e+02, 2.040e+03, 0.000e+00,\n",
       "        9.360e+02, 1.000e+00, 0.000e+00]])"
      ]
     },
     "execution_count": 236,
     "metadata": {},
     "output_type": "execute_result"
    }
   ],
   "source": [
    "follow_count_matrix = np.zeros((len(alphabet),len(alphabet)))\n",
    "for i, char in enumerate(hamlet[:-1]):\n",
    "    mat_i = alphabet.index(char)\n",
    "    mat_j = alphabet.index(hamlet[i+1])\n",
    "    follow_count_matrix[mat_i,mat_j] += 1\n",
    "follow_count_matrix"
   ]
  },
  {
   "cell_type": "code",
   "execution_count": 237,
   "metadata": {
    "pycharm": {
     "name": "#%%\n"
    }
   },
   "outputs": [
    {
     "name": "stdout",
     "output_type": "stream",
     "text": [
      "[1.         1.         1.         1.         1.         1.\n",
      " 1.         1.         1.         1.         1.         1.\n",
      " 1.         1.         1.         1.         1.         1.\n",
      " 1.         1.         1.         1.         1.         1.\n",
      " 1.         1.         0.99996857]\n"
     ]
    },
    {
     "data": {
      "text/plain": [
       "array([[0.00000000e+00, 1.03980674e-02, 2.60476841e-02, 3.67608444e-02,\n",
       "        5.25154921e-03, 5.88173511e-03, 1.77502363e-02, 7.35216889e-04,\n",
       "        3.40300389e-02, 2.20565067e-03, 2.61527151e-02, 6.84802017e-02,\n",
       "        3.62356895e-02, 2.05125512e-01, 0.00000000e+00, 1.20785632e-02,\n",
       "        0.00000000e+00, 1.06396387e-01, 7.88782691e-02, 1.48408781e-01,\n",
       "        1.14483773e-02, 3.91765571e-02, 1.11332843e-02, 1.05030984e-03,\n",
       "        4.81041907e-02, 1.36540279e-03, 6.69047369e-02],\n",
       "       [6.12813370e-02, 6.12813370e-03, 0.00000000e+00, 0.00000000e+00,\n",
       "        3.30362117e-01, 0.00000000e+00, 0.00000000e+00, 5.57103064e-04,\n",
       "        2.78551532e-02, 2.78551532e-03, 0.00000000e+00, 1.06406685e-01,\n",
       "        0.00000000e+00, 0.00000000e+00, 8.52367688e-02, 0.00000000e+00,\n",
       "        0.00000000e+00, 8.41225627e-02, 1.44846797e-02, 8.35654596e-03,\n",
       "        1.86629526e-01, 0.00000000e+00, 0.00000000e+00, 0.00000000e+00,\n",
       "        6.96378830e-02, 0.00000000e+00, 1.61559889e-02],\n",
       "       [1.13185976e-01, 0.00000000e+00, 9.90853659e-03, 0.00000000e+00,\n",
       "        1.92073171e-01, 0.00000000e+00, 0.00000000e+00, 1.75685976e-01,\n",
       "        2.89634146e-02, 0.00000000e+00, 6.09756098e-02, 3.39176829e-02,\n",
       "        0.00000000e+00, 0.00000000e+00, 2.13033537e-01, 0.00000000e+00,\n",
       "        1.14329268e-03, 4.83993902e-02, 1.90548780e-03, 6.17378049e-02,\n",
       "        3.31554878e-02, 0.00000000e+00, 0.00000000e+00, 0.00000000e+00,\n",
       "        9.14634146e-03, 0.00000000e+00, 1.67682927e-02],\n",
       "       [2.90513834e-02, 0.00000000e+00, 3.95256917e-04, 5.73122530e-03,\n",
       "        1.18972332e-01, 1.38339921e-03, 5.53359684e-03, 1.97628458e-04,\n",
       "        6.00790514e-02, 1.97628458e-04, 1.97628458e-04, 4.94071146e-03,\n",
       "        2.56916996e-03, 6.12648221e-03, 7.88537549e-02, 0.00000000e+00,\n",
       "        0.00000000e+00, 2.21343874e-02, 3.75494071e-02, 3.95256917e-04,\n",
       "        9.68379447e-03, 2.17391304e-03, 1.97628458e-04, 0.00000000e+00,\n",
       "        1.40316206e-02, 0.00000000e+00, 5.99604743e-01],\n",
       "       [6.79867541e-02, 1.08130026e-03, 1.46651348e-02, 2.89247821e-02,\n",
       "        3.96026222e-02, 7.56910184e-03, 3.37906332e-03, 1.35162533e-03,\n",
       "        1.03399338e-02, 1.35162533e-04, 1.08130026e-03, 4.23734541e-02,\n",
       "        1.95309860e-02, 9.03561533e-02, 1.75711293e-03, 8.98830844e-03,\n",
       "        1.08130026e-03, 1.27255525e-01, 6.80543353e-02, 4.07515037e-02,\n",
       "        3.17631952e-03, 1.13536528e-02, 5.33892005e-03, 9.93444617e-03,\n",
       "        1.20294654e-02, 2.02743799e-04, 3.81698993e-01],\n",
       "       [1.03967671e-01, 0.00000000e+00, 0.00000000e+00, 0.00000000e+00,\n",
       "        8.74357090e-02, 4.07788391e-02, 0.00000000e+00, 0.00000000e+00,\n",
       "        7.75165320e-02, 0.00000000e+00, 0.00000000e+00, 2.27773696e-02,\n",
       "        0.00000000e+00, 0.00000000e+00, 1.90301249e-01, 3.67376929e-04,\n",
       "        0.00000000e+00, 6.94342395e-02, 7.34753857e-04, 2.75532697e-02,\n",
       "        2.49816312e-02, 0.00000000e+00, 0.00000000e+00, 0.00000000e+00,\n",
       "        1.10213079e-03, 0.00000000e+00, 3.53049229e-01],\n",
       "       [6.08465608e-02, 0.00000000e+00, 0.00000000e+00, 2.20458554e-03,\n",
       "        1.41534392e-01, 0.00000000e+00, 1.10229277e-02, 1.46384480e-01,\n",
       "        5.99647266e-02, 0.00000000e+00, 0.00000000e+00, 2.60141093e-02,\n",
       "        5.29100529e-03, 1.14638448e-02, 1.28747795e-01, 0.00000000e+00,\n",
       "        0.00000000e+00, 7.14285714e-02, 2.46913580e-02, 3.08641975e-03,\n",
       "        4.54144621e-02, 0.00000000e+00, 0.00000000e+00, 0.00000000e+00,\n",
       "        8.81834215e-04, 0.00000000e+00, 2.61022928e-01],\n",
       "       [1.85325821e-01, 2.44977952e-04, 2.44977952e-04, 4.89955904e-04,\n",
       "        3.55707986e-01, 4.89955904e-04, 0.00000000e+00, 0.00000000e+00,\n",
       "        1.52253797e-01, 0.00000000e+00, 0.00000000e+00, 9.79911808e-04,\n",
       "        8.57422832e-04, 4.89955904e-04, 9.94610485e-02, 0.00000000e+00,\n",
       "        0.00000000e+00, 9.55414013e-03, 1.83733464e-03, 2.96423322e-02,\n",
       "        1.22488976e-02, 0.00000000e+00, 1.22488976e-04, 0.00000000e+00,\n",
       "        2.10681039e-02, 0.00000000e+00, 1.28980892e-01],\n",
       "       [1.34587899e-02, 4.16865174e-03, 3.25154836e-02, 2.29871367e-02,\n",
       "        4.02572654e-02, 2.50119104e-02, 2.76322058e-02, 1.19104335e-04,\n",
       "        8.33730348e-04, 0.00000000e+00, 1.26250596e-02, 5.75273940e-02,\n",
       "        4.37112911e-02, 2.19390186e-01, 4.07336827e-02, 5.12148642e-03,\n",
       "        8.33730348e-04, 4.60933778e-02, 1.58051453e-01, 1.39947594e-01,\n",
       "        6.43163411e-03, 2.29871367e-02, 1.19104335e-04, 1.42925202e-03,\n",
       "        0.00000000e+00, 1.19104335e-03, 7.68222963e-02],\n",
       "       [4.50450450e-02, 0.00000000e+00, 0.00000000e+00, 0.00000000e+00,\n",
       "        3.51351351e-01, 0.00000000e+00, 0.00000000e+00, 0.00000000e+00,\n",
       "        2.70270270e-02, 0.00000000e+00, 0.00000000e+00, 0.00000000e+00,\n",
       "        0.00000000e+00, 0.00000000e+00, 2.70270270e-01, 0.00000000e+00,\n",
       "        0.00000000e+00, 0.00000000e+00, 0.00000000e+00, 0.00000000e+00,\n",
       "        3.06306306e-01, 0.00000000e+00, 0.00000000e+00, 0.00000000e+00,\n",
       "        0.00000000e+00, 0.00000000e+00, 0.00000000e+00],\n",
       "       [1.71673820e-03, 0.00000000e+00, 0.00000000e+00, 0.00000000e+00,\n",
       "        2.84120172e-01, 0.00000000e+00, 0.00000000e+00, 0.00000000e+00,\n",
       "        1.57081545e-01, 0.00000000e+00, 0.00000000e+00, 1.11587983e-02,\n",
       "        0.00000000e+00, 1.10729614e-01, 5.15021459e-03, 0.00000000e+00,\n",
       "        0.00000000e+00, 0.00000000e+00, 5.23605150e-02, 0.00000000e+00,\n",
       "        8.58369099e-03, 0.00000000e+00, 8.58369099e-04, 0.00000000e+00,\n",
       "        3.43347639e-03, 0.00000000e+00, 3.64806867e-01],\n",
       "       [8.32000000e-02, 1.77777778e-04, 4.08888889e-03, 6.56000000e-02,\n",
       "        1.50044444e-01, 1.79555556e-02, 5.33333333e-04, 0.00000000e+00,\n",
       "        8.42666667e-02, 0.00000000e+00, 4.08888889e-03, 1.78311111e-01,\n",
       "        3.73333333e-03, 1.77777778e-04, 1.23200000e-01, 2.84444444e-03,\n",
       "        0.00000000e+00, 1.06666667e-03, 1.97333333e-02, 1.26222222e-02,\n",
       "        1.01333333e-02, 5.68888889e-03, 5.33333333e-04, 0.00000000e+00,\n",
       "        3.52000000e-02, 0.00000000e+00, 1.96800000e-01],\n",
       "       [1.63659794e-01, 2.08762887e-02, 0.00000000e+00, 0.00000000e+00,\n",
       "        2.31701031e-01, 5.15463918e-04, 0.00000000e+00, 0.00000000e+00,\n",
       "        4.92268041e-02, 0.00000000e+00, 0.00000000e+00, 3.01546392e-02,\n",
       "        1.36597938e-02, 4.89690722e-03, 1.03092784e-01, 2.57731959e-02,\n",
       "        0.00000000e+00, 5.15463918e-04, 1.90721649e-02, 2.57731959e-04,\n",
       "        3.89175258e-02, 2.57731959e-04, 5.15463918e-04, 0.00000000e+00,\n",
       "        1.37886598e-01, 0.00000000e+00, 1.59020619e-01],\n",
       "       [2.18244237e-02, 2.69740069e-03, 4.08288377e-02, 1.90289358e-01,\n",
       "        7.51593919e-02, 4.78175576e-03, 9.64933791e-02, 8.58263855e-04,\n",
       "        2.37861697e-02, 8.58263855e-04, 1.61844041e-02, 2.08435508e-03,\n",
       "        4.90436488e-03, 1.01765571e-02, 1.15497793e-01, 8.58263855e-04,\n",
       "        6.13045611e-04, 3.67827366e-04, 3.65375184e-02, 8.31289848e-02,\n",
       "        2.57479156e-03, 3.31044630e-03, 1.34870034e-03, 0.00000000e+00,\n",
       "        6.49828347e-03, 4.90436488e-04, 2.57846984e-01],\n",
       "       [3.41139591e-03, 5.90079292e-03, 6.08519270e-03, 2.38797713e-02,\n",
       "        5.99299281e-03, 7.16393140e-02, 2.48939701e-03, 5.53199336e-04,\n",
       "        8.20579015e-03, 9.21998894e-05, 7.46819104e-03, 2.68301678e-02,\n",
       "        4.90503411e-02, 1.02618477e-01, 3.78941545e-02, 1.09717868e-02,\n",
       "        9.21998894e-05, 1.27512447e-01, 3.21777614e-02, 5.85469297e-02,\n",
       "        1.80896183e-01, 1.45675825e-02, 5.85469297e-02, 3.68799557e-04,\n",
       "        2.85819657e-03, 4.60999447e-04, 1.60888807e-01],\n",
       "       [1.14409066e-01, 0.00000000e+00, 0.00000000e+00, 0.00000000e+00,\n",
       "        1.71613600e-01, 5.39665407e-04, 0.00000000e+00, 3.72369131e-02,\n",
       "        6.04425256e-02, 0.00000000e+00, 5.39665407e-04, 9.92984350e-02,\n",
       "        0.00000000e+00, 0.00000000e+00, 1.58661630e-01, 3.66972477e-02,\n",
       "        0.00000000e+00, 1.32757690e-01, 2.32056125e-02, 1.99676201e-02,\n",
       "        4.69508904e-02, 0.00000000e+00, 2.15866163e-03, 0.00000000e+00,\n",
       "        8.09498111e-03, 0.00000000e+00, 8.74257960e-02],\n",
       "       [0.00000000e+00, 0.00000000e+00, 0.00000000e+00, 0.00000000e+00,\n",
       "        0.00000000e+00, 0.00000000e+00, 0.00000000e+00, 0.00000000e+00,\n",
       "        0.00000000e+00, 0.00000000e+00, 0.00000000e+00, 0.00000000e+00,\n",
       "        0.00000000e+00, 0.00000000e+00, 0.00000000e+00, 0.00000000e+00,\n",
       "        0.00000000e+00, 0.00000000e+00, 0.00000000e+00, 0.00000000e+00,\n",
       "        1.00000000e+00, 0.00000000e+00, 0.00000000e+00, 0.00000000e+00,\n",
       "        0.00000000e+00, 0.00000000e+00, 0.00000000e+00],\n",
       "       [6.95130087e-02, 2.66844563e-03, 1.14743162e-02, 5.97731821e-02,\n",
       "        1.89726484e-01, 2.93529019e-03, 8.00533689e-03, 3.06871247e-03,\n",
       "        5.77718479e-02, 0.00000000e+00, 9.07271514e-03, 7.87191461e-03,\n",
       "        1.29419613e-02, 1.80120080e-02, 7.23148766e-02, 5.07004670e-03,\n",
       "        0.00000000e+00, 1.78785857e-02, 5.47031354e-02, 5.63042028e-02,\n",
       "        1.82788526e-02, 5.60373582e-03, 2.80186791e-03, 0.00000000e+00,\n",
       "        2.66844563e-02, 0.00000000e+00, 2.87525017e-01],\n",
       "       [2.61453586e-02, 1.67905973e-03, 1.51115375e-02, 1.19932838e-03,\n",
       "        1.09378748e-01, 5.99664188e-04, 0.00000000e+00, 5.52890381e-02,\n",
       "        4.42552171e-02, 1.19932838e-04, 3.59798513e-03, 7.31590309e-03,\n",
       "        2.87838810e-03, 8.39529863e-04, 6.16454785e-02, 2.42264332e-02,\n",
       "        2.39865675e-04, 1.07939554e-03, 3.26217318e-02, 1.30127129e-01,\n",
       "        2.15879108e-02, 0.00000000e+00, 1.11537539e-02, 0.00000000e+00,\n",
       "        2.87838810e-03, 0.00000000e+00, 4.46030223e-01],\n",
       "       [2.49008188e-02, 8.44095552e-05, 4.30488731e-03, 0.00000000e+00,\n",
       "        6.55862244e-02, 1.01291466e-03, 0.00000000e+00, 3.36203258e-01,\n",
       "        5.19118764e-02, 0.00000000e+00, 0.00000000e+00, 1.13952899e-02,\n",
       "        5.06457331e-04, 5.06457331e-04, 8.72794800e-02, 8.44095552e-05,\n",
       "        0.00000000e+00, 2.31282181e-02, 1.89921499e-02, 1.21549759e-02,\n",
       "        1.36743479e-02, 0.00000000e+00, 7.17481219e-03, 0.00000000e+00,\n",
       "        1.21549759e-02, 2.86992488e-03, 3.26074112e-01],\n",
       "       [8.50862680e-03, 1.01630820e-02, 3.68707161e-02, 1.79626566e-02,\n",
       "        3.89978728e-02, 4.72701489e-03, 3.45072087e-02, 0.00000000e+00,\n",
       "        2.50531789e-02, 0.00000000e+00, 4.72701489e-04, 8.81588277e-02,\n",
       "        1.89080596e-02, 8.76861262e-02, 2.83620893e-03, 2.93074923e-02,\n",
       "        0.00000000e+00, 1.89553297e-01, 1.23847790e-01, 1.20538880e-01,\n",
       "        0.00000000e+00, 0.00000000e+00, 0.00000000e+00, 2.36350745e-04,\n",
       "        7.09052234e-04, 9.45402978e-04, 1.60009454e-01],\n",
       "       [3.60951600e-02, 0.00000000e+00, 0.00000000e+00, 0.00000000e+00,\n",
       "        7.49794914e-01, 0.00000000e+00, 0.00000000e+00, 0.00000000e+00,\n",
       "        1.24692371e-01, 0.00000000e+00, 0.00000000e+00, 0.00000000e+00,\n",
       "        0.00000000e+00, 0.00000000e+00, 4.92206727e-02, 0.00000000e+00,\n",
       "        0.00000000e+00, 0.00000000e+00, 0.00000000e+00, 0.00000000e+00,\n",
       "        4.10172272e-03, 0.00000000e+00, 0.00000000e+00, 0.00000000e+00,\n",
       "        9.02378999e-03, 0.00000000e+00, 2.70713700e-02],\n",
       "       [9.08206293e-02, 3.24359390e-04, 0.00000000e+00, 1.94615634e-03,\n",
       "        1.56341226e-01, 3.24359390e-04, 0.00000000e+00, 2.09211807e-01,\n",
       "        2.12455401e-01, 0.00000000e+00, 3.24359390e-04, 2.91923451e-03,\n",
       "        3.24359390e-04, 4.08692832e-02, 9.21180668e-02, 0.00000000e+00,\n",
       "        0.00000000e+00, 1.29743756e-02, 2.36782355e-02, 3.24359390e-04,\n",
       "        0.00000000e+00, 0.00000000e+00, 0.00000000e+00, 0.00000000e+00,\n",
       "        3.24359390e-04, 0.00000000e+00, 1.54719429e-01],\n",
       "       [4.59770115e-02, 0.00000000e+00, 1.43678161e-01, 0.00000000e+00,\n",
       "        2.52873563e-01, 0.00000000e+00, 0.00000000e+00, 5.74712644e-03,\n",
       "        2.41379310e-01, 0.00000000e+00, 0.00000000e+00, 0.00000000e+00,\n",
       "        5.74712644e-03, 0.00000000e+00, 0.00000000e+00, 7.47126437e-02,\n",
       "        0.00000000e+00, 0.00000000e+00, 0.00000000e+00, 1.20689655e-01,\n",
       "        5.74712644e-03, 0.00000000e+00, 0.00000000e+00, 0.00000000e+00,\n",
       "        0.00000000e+00, 0.00000000e+00, 1.03448276e-01],\n",
       "       [5.33082471e-03, 0.00000000e+00, 3.13577924e-04, 0.00000000e+00,\n",
       "        4.67231107e-02, 3.13577924e-04, 0.00000000e+00, 0.00000000e+00,\n",
       "        5.33082471e-03, 0.00000000e+00, 0.00000000e+00, 0.00000000e+00,\n",
       "        2.50862339e-03, 2.19504547e-03, 2.71558482e-01, 1.25431170e-03,\n",
       "        0.00000000e+00, 5.01724679e-03, 1.75603638e-02, 3.44935717e-03,\n",
       "        0.00000000e+00, 6.27155848e-04, 0.00000000e+00, 0.00000000e+00,\n",
       "        0.00000000e+00, 0.00000000e+00, 6.37817498e-01],\n",
       "       [1.00000000e-01, 0.00000000e+00, 0.00000000e+00, 0.00000000e+00,\n",
       "        2.25000000e-01, 0.00000000e+00, 0.00000000e+00, 0.00000000e+00,\n",
       "        1.25000000e-02, 0.00000000e+00, 0.00000000e+00, 2.50000000e-02,\n",
       "        0.00000000e+00, 0.00000000e+00, 2.50000000e-02, 0.00000000e+00,\n",
       "        0.00000000e+00, 0.00000000e+00, 0.00000000e+00, 0.00000000e+00,\n",
       "        0.00000000e+00, 1.25000000e-02, 0.00000000e+00, 0.00000000e+00,\n",
       "        1.25000000e-02, 7.50000000e-02, 5.12500000e-01],\n",
       "       [9.27119017e-02, 4.35274522e-02, 3.10820579e-02, 4.18303529e-02,\n",
       "        2.10251736e-02, 3.90018542e-02, 2.32879726e-02, 6.74439800e-02,\n",
       "        7.09010340e-02, 2.29422672e-03, 9.27119017e-03, 3.66133442e-02,\n",
       "        6.23526824e-02, 3.03592193e-02, 5.20129482e-02, 2.73107263e-02,\n",
       "        3.48848172e-03, 1.50224709e-02, 7.74065810e-02, 1.42556334e-01,\n",
       "        1.02768786e-02, 6.63125805e-03, 6.41126371e-02, 0.00000000e+00,\n",
       "        2.94163864e-02, 3.14277633e-05, 0.00000000e+00]])"
      ]
     },
     "execution_count": 237,
     "metadata": {},
     "output_type": "execute_result"
    }
   ],
   "source": [
    "countstats_dict = dict(countstats)\n",
    "follow_prob_matrix = np.zeros((len(alphabet),len(alphabet)))\n",
    "for i in range(len(alphabet)):\n",
    "    for j in range(len(alphabet)):\n",
    "        follow_prob_matrix[i,j] = follow_count_matrix[i,j]/countstats_dict[alphabet[i]]\n",
    "print(np.sum(follow_prob_matrix, axis=1))\n",
    "follow_prob_matrix"
   ]
  },
  {
   "cell_type": "code",
   "execution_count": 238,
   "metadata": {
    "pycharm": {
     "name": "#%%\n"
    }
   },
   "outputs": [
    {
     "name": "stdout",
     "output_type": "stream",
     "text": [
      "\n",
      "e:\n",
      "{\"a\": 0.06798675407177131, \"b\": 0.0010813002635669392, \"c\": 0.014665134824626613, \"d\": 0.028924782050415626, \"e\": 0.03960262215313915, \"f\": 0.007569101844968575, \"g\": 0.0033790633236466853, \"h\": 0.001351625329458674, \"i\": 0.010339933770358857, \"j\": 0.0001351625329458674, \"k\": 0.0010813002635669392, \"l\": 0.04237345407852943, \"m\": 0.01953098601067784, \"n\": 0.09035615327431236, \"o\": 0.0017571129282962763, \"p\": 0.008988308440900183, \"q\": 0.0010813002635669392, \"r\": 0.12725552476853416, \"s\": 0.06805433533824425, \"t\": 0.04075150368317902, \"u\": 0.003176319524227884, \"v\": 0.011353652767452862, \"w\": 0.0053389200513617625, \"x\": 0.009934446171521255, \"y\": 0.0120294654321822, \"z\": 0.00020274379941880111, \" \": 0.3816989930391296}\n",
      "\n",
      "t:\n",
      "{\"a\": 0.024900818772685067, \"b\": 8.44095551616443e-05, \"c\": 0.004304887313243859, \"d\": 0.0, \"e\": 0.06558622436059762, \"f\": 0.0010129146619397315, \"g\": 0.0, \"h\": 0.33620325820882924, \"i\": 0.051911876424411245, \"j\": 0.0, \"k\": 0.0, \"l\": 0.01139528994682198, \"m\": 0.0005064573309698658, \"n\": 0.0005064573309698658, \"o\": 0.0872794800371402, \"p\": 8.44095551616443e-05, \"q\": 0.0, \"r\": 0.023128218114290538, \"s\": 0.018992149911369965, \"t\": 0.01215497594327678, \"u\": 0.013674347936186377, \"v\": 0.0, \"w\": 0.007174812188739765, \"x\": 0.0, \"y\": 0.01215497594327678, \"z\": 0.002869924875495906, \" \": 0.32607411158943195}\n"
     ]
    }
   ],
   "source": [
    "for letter in top_letters:\n",
    "    print(f\"\\n{letter}:\")\n",
    "    print(json.dumps(dict(zip(alphabet, follow_prob_matrix[alphabet.index(letter)]))))"
   ]
  },
  {
   "cell_type": "markdown",
   "metadata": {
    "pycharm": {
     "name": "#%% md\n"
    }
   },
   "source": [
    "## Zadanie 5"
   ]
  },
  {
   "cell_type": "markdown",
   "metadata": {
    "pycharm": {
     "name": "#%% md\n"
    }
   },
   "source": [
    "### Markov first"
   ]
  },
  {
   "cell_type": "code",
   "execution_count": 240,
   "metadata": {
    "pycharm": {
     "name": "#%%\n"
    }
   },
   "outputs": [
    {
     "name": "stdout",
     "output_type": "stream",
     "text": [
      "3.902941176470588\n",
      "thad ave t til gi my rkimusthiedostoe thilvin utlk ugr be andanar yryospat as w il cave wengen oulicy ncerth ngarerla be ishe ar brdeye ory med t l s iore hang arerer and s lprke athis pe e ckin s tand t ncatzaimaunoris sthinolco my sy l i h i iee my f burontrer e iggl t hist others ndor prm ay oud as n cadcit achemancan ocon housbellahinen o l wo hy heneme hed so t br icrnthoura t yoday hr beverdome thyon owal brinouthewinchero whe awh yometis thance my oacowincom wes d ftis pev tit nsthais ams\n"
     ]
    }
   ],
   "source": [
    "n = 10000\n",
    "markov_first_approx = 't'\n",
    "for i in range(n):\n",
    "    alphabet_index = alphabet.index(markov_first_approx[i])\n",
    "    probs = follow_prob_matrix[alphabet_index]\n",
    "    probs_normed = probs/probs.sum() # normalize so that the vector sums to 1\n",
    "    markov_first_approx += \\\n",
    "        alphabet[np.random.choice(np.arange(len(alphabet)), p=probs_normed)]\n",
    "\n",
    "markov_first_approx_avg_len = np.mean([len(x) for x in markov_first_approx.split()])\n",
    "print(markov_first_approx_avg_len)\n",
    "print(markov_first_approx[:500])"
   ]
  },
  {
   "cell_type": "markdown",
   "metadata": {
    "pycharm": {
     "name": "#%% md\n"
    }
   },
   "source": [
    "### Markov third"
   ]
  },
  {
   "cell_type": "code",
   "execution_count": 223,
   "metadata": {
    "pycharm": {
     "name": "#%%\n"
    }
   },
   "outputs": [
    {
     "data": {
      "text/plain": [
       "array([[0., 0., 0., ..., 0., 0., 0.],\n",
       "       [0., 0., 0., ..., 0., 0., 0.],\n",
       "       [0., 0., 0., ..., 0., 0., 0.],\n",
       "       ...,\n",
       "       [0., 0., 0., ..., 0., 0., 0.],\n",
       "       [0., 0., 0., ..., 0., 0., 0.],\n",
       "       [0., 0., 0., ..., 0., 0., 0.]])"
      ]
     },
     "execution_count": 223,
     "metadata": {},
     "output_type": "execute_result"
    }
   ],
   "source": [
    "n = len(alphabet)\n",
    "thirds_permutations = [''.join(perm) for perm in list(itertools.product(alphabet,repeat=3))]\n",
    "thirds_follow_count_matrix = np.zeros((n ** 3, n))\n",
    "for i, char in enumerate(hamlet[:-3]):\n",
    "    mat_i = thirds_permutations.index(hamlet[i:i+3])\n",
    "    mat_j = alphabet.index(hamlet[i+3])\n",
    "    thirds_follow_count_matrix[mat_i,mat_j] += 1\n",
    "thirds_follow_count_matrix"
   ]
  },
  {
   "cell_type": "code",
   "execution_count": 209,
   "metadata": {
    "pycharm": {
     "name": "#%%\n"
    }
   },
   "outputs": [
    {
     "name": "stderr",
     "output_type": "stream",
     "text": [
      "C:\\Users\\alext\\anaconda3\\lib\\site-packages\\ipykernel_launcher.py:4: RuntimeWarning: invalid value encountered in double_scalars\n",
      "  after removing the cwd from sys.path.\n"
     ]
    },
    {
     "name": "stdout",
     "output_type": "stream",
     "text": [
      "[0. 0. 0. ... 0. 0. 0.]\n"
     ]
    },
    {
     "data": {
      "text/plain": [
       "array([[0., 0., 0., ..., 0., 0., 0.],\n",
       "       [0., 0., 0., ..., 0., 0., 0.],\n",
       "       [0., 0., 0., ..., 0., 0., 0.],\n",
       "       ...,\n",
       "       [0., 0., 0., ..., 0., 0., 0.],\n",
       "       [0., 0., 0., ..., 0., 0., 0.],\n",
       "       [0., 0., 0., ..., 0., 0., 0.]])"
      ]
     },
     "execution_count": 209,
     "metadata": {},
     "output_type": "execute_result"
    }
   ],
   "source": [
    "thirds_follow_prob_matrix = np.zeros((n ** 3, n))\n",
    "for i in range(n ** 3):\n",
    "    for j in range(n):\n",
    "        prob = thirds_follow_count_matrix[i,j]/np.sum(thirds_follow_count_matrix[i])\n",
    "        thirds_follow_prob_matrix[i,j] = 0 if np.isnan(prob) else prob\n",
    "print(np.sum(thirds_follow_prob_matrix, axis=1))\n",
    "thirds_follow_prob_matrix"
   ]
  },
  {
   "cell_type": "code",
   "execution_count": 241,
   "metadata": {
    "pycharm": {
     "name": "#%%\n"
    }
   },
   "outputs": [
    {
     "name": "stdout",
     "output_type": "stream",
     "text": [
      "3.902941176470588\n",
      "the casinession you many love grapprestian it s ence leave and wings to he deardon of heave head we woman us speachee chrison d for fair t and shought in and dozen how fatnestications fish glow thou feelse enes crant ay from in town no thee most noration cour did ones you case what make she deview and play stubble poisenched right alas any summons at this the are such alream so ratenanto a cry would we work form but tood in grade did a blook what we love to do you head by heliar rappartinest wha\n"
     ]
    }
   ],
   "source": [
    "n = 10000\n",
    "markov_third_approx = 'the'\n",
    "for i in range(n):\n",
    "    third_index = thirds_permutations.index(markov_third_approx[i:i+3])\n",
    "    probs = thirds_follow_prob_matrix[third_index]\n",
    "    probs_normed = probs/probs.sum() # normalize so that the vector sums to 1\n",
    "    markov_third_approx += \\\n",
    "        alphabet[np.random.choice(np.arange(len(alphabet)), p=probs_normed)]\n",
    "\n",
    "markov_third_approx_avg_len = np.mean([len(x) for x in markov_first_approx.split()])\n",
    "print(markov_third_approx_avg_len)\n",
    "print(markov_third_approx[:500])"
   ]
  },
  {
   "cell_type": "code",
   "execution_count": null,
   "metadata": {
    "pycharm": {
     "name": "#%%\n"
    }
   },
   "outputs": [],
   "source": []
  },
  {
   "cell_type": "code",
   "execution_count": null,
   "metadata": {
    "pycharm": {
     "name": "#%%\n"
    }
   },
   "outputs": [],
   "source": [
    "n = len(alphabet)\n",
    "thirds_permutations = [''.join(perm) for perm in list(itertools.product(alphabet,repeat=3))]\n",
    "thirds_follow_count_matrix = np.zeros((n ** 3, n))\n",
    "for i, char in enumerate(hamlet[:-3]):\n",
    "    mat_i = thirds_permutations.index(hamlet[i:i+3])\n",
    "    mat_j = alphabet.index(hamlet[i+3])\n",
    "    thirds_follow_count_matrix[mat_i,mat_j] += 1\n",
    "thirds_follow_count_matrix\n",
    "\n",
    "thirds_follow_prob_matrix = np.zeros((n ** 3, n))\n",
    "for i in range(n ** 3):\n",
    "    for j in range(n):\n",
    "        prob = thirds_follow_count_matrix[i,j]/np.sum(thirds_follow_count_matrix[i])\n",
    "        thirds_follow_prob_matrix[i,j] = 0 if np.isnan(prob) else prob\n",
    "print(np.sum(thirds_follow_prob_matrix, axis=1))\n",
    "thirds_follow_prob_matrix\n",
    "\n",
    "n = 10000\n",
    "markov_third_approx = 'the'\n",
    "for i in range(n):\n",
    "    third_index = thirds_permutations.index(markov_third_approx[i:i+3])\n",
    "    probs = thirds_follow_prob_matrix[third_index]\n",
    "    probs_normed = probs/probs.sum() # normalize so that the vector sums to 1\n",
    "    markov_third_approx += \\\n",
    "        alphabet[np.random.choice(np.arange(len(alphabet)), p=probs_normed)]\n",
    "\n",
    "markov_third_approx_avg_len = np.mean([len(x) for x in markov_first_approx.split()])\n",
    "print(markov_third_approx_avg_len)\n",
    "print(markov_third_approx[:500])"
   ]
  },
  {
   "cell_type": "code",
   "execution_count": null,
   "metadata": {
    "pycharm": {
     "name": "#%%\n"
    }
   },
   "outputs": [],
   "source": []
  },
  {
   "cell_type": "code",
   "execution_count": null,
   "metadata": {
    "pycharm": {
     "name": "#%%\n"
    }
   },
   "outputs": [],
   "source": []
  }
 ],
 "metadata": {
  "kernelspec": {
   "display_name": "Python 3",
   "language": "python",
   "name": "python3"
  },
  "language_info": {
   "codemirror_mode": {
    "name": "ipython",
    "version": 3
   },
   "file_extension": ".py",
   "mimetype": "text/x-python",
   "name": "python",
   "nbconvert_exporter": "python",
   "pygments_lexer": "ipython3",
   "version": "3.9.5"
  }
 },
 "nbformat": 4,
 "nbformat_minor": 1
}
